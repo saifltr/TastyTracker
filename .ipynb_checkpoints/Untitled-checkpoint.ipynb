{
 "cells": [
  {
   "cell_type": "code",
   "execution_count": 6,
   "id": "bfa63c21",
   "metadata": {},
   "outputs": [],
   "source": [
    "import requests\n",
    "import csv"
   ]
  },
  {
   "cell_type": "code",
   "execution_count": 7,
   "id": "c46653f4",
   "metadata": {},
   "outputs": [],
   "source": [
    "# Set up the API request parameters\n",
    "headers = {\"User-agent\": \"curl/7.43.0\", \"Accept\": \"application/json\", \"user_key\": \"7749b19667964b87a3efc739e254ada2\"}\n",
    "params = {\"entity_id\": 1, \"entity_type\": \"city\", \"count\": 100}\n",
    "\n",
    "# Send the API request and retrieve the response\n",
    "response = requests.get(\"https://developers.zomato.com/api/v2.1/search\", headers=headers, params=params)\n",
    "\n",
    "# Extract the restaurant data from the response\n",
    "restaurants = response.json()[\"restaurants\"]\n",
    "data = []\n",
    "for restaurant in restaurants:\n",
    "    name = restaurant[\"restaurant\"][\"name\"]\n",
    "    cuisine = restaurant[\"restaurant\"][\"cuisines\"]\n",
    "    rating = restaurant[\"restaurant\"][\"user_rating\"][\"aggregate_rating\"]\n",
    "    cost = restaurant[\"restaurant\"][\"average_cost_for_two\"]\n",
    "    address = restaurant[\"restaurant\"][\"location\"][\"address\"]\n",
    "    data.append([name, cuisine, rating, cost, address])\n",
    "\n",
    "# Write the data to a CSV file\n",
    "with open(\"restaurants.csv\", \"w\", newline=\"\") as f:\n",
    "    writer = csv.writer(f)\n",
    "    writer.writerow([\"name\", \"cuisine\", \"rating\", \"cost\", \"address\"])\n",
    "    writer.writerows(data)"
   ]
  }
 ],
 "metadata": {
  "kernelspec": {
   "display_name": "Python 3 (ipykernel)",
   "language": "python",
   "name": "python3"
  },
  "language_info": {
   "codemirror_mode": {
    "name": "ipython",
    "version": 3
   },
   "file_extension": ".py",
   "mimetype": "text/x-python",
   "name": "python",
   "nbconvert_exporter": "python",
   "pygments_lexer": "ipython3",
   "version": "3.11.1"
  }
 },
 "nbformat": 4,
 "nbformat_minor": 5
}
